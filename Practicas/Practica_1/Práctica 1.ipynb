{
  "nbformat": 4,
  "nbformat_minor": 0,
  "metadata": {
    "colab": {
      "provenance": [],
      "authorship_tag": "ABX9TyNEmevPEv4d+oIgyRa2Wg+w",
      "include_colab_link": true
    },
    "kernelspec": {
      "name": "python3",
      "display_name": "Python 3"
    },
    "language_info": {
      "name": "python"
    }
  },
  "cells": [
    {
      "cell_type": "markdown",
      "metadata": {
        "id": "view-in-github",
        "colab_type": "text"
      },
      "source": [
        "<a href=\"https://colab.research.google.com/github/karimacuna2008/Clase_Aprendizaje_Automatico/blob/main/Practicas/Practica_1/Pr%C3%A1ctica%201.ipynb\" target=\"_parent\"><img src=\"https://colab.research.google.com/assets/colab-badge.svg\" alt=\"Open In Colab\"/></a>"
      ]
    },
    {
      "cell_type": "code",
      "execution_count": null,
      "metadata": {
        "colab": {
          "base_uri": "https://localhost:8080/"
        },
        "id": "7JZSS8lBzhsE",
        "outputId": "d14b3f2c-ea2b-41bd-bdb9-e8ab375a5b29"
      },
      "outputs": [
        {
          "output_type": "stream",
          "name": "stdout",
          "text": [
            "Estadísticas descriptivas de 'Nombre':\n",
            "count                             636201\n",
            "unique                             21034\n",
            "top       JUAN ANTONIO RAMIREZ HERNANDEZ\n",
            "freq                                  97\n",
            "Name: Nombre, dtype: object\n",
            "\n",
            "Estadísticas descriptivas de 'Sueldo Neto':\n",
            "count    636201.000000\n",
            "mean      14241.682401\n",
            "std        9578.442311\n",
            "min         175.410000\n",
            "25%        8007.660000\n",
            "50%       11426.500000\n",
            "75%       17654.630000\n",
            "max      147051.590000\n",
            "Name: Sueldo Neto, dtype: float64\n",
            "\n",
            "Estadísticas descriptivas de 'dependencia':\n",
            "count                     636201\n",
            "unique                       152\n",
            "top       HOSPITAL UNIVERSITARIO\n",
            "freq                      105549\n",
            "Name: dependencia, dtype: object\n",
            "\n",
            "Estadísticas descriptivas de 'Fecha':\n",
            "count         636201\n",
            "unique            48\n",
            "top       2020-12-01\n",
            "freq           14890\n",
            "Name: Fecha, dtype: object\n",
            "\n",
            "Estadísticas descriptivas de 'Tipo':\n",
            "count       636201\n",
            "unique           6\n",
            "top       FACULTAD\n",
            "freq        274527\n",
            "Name: Tipo, dtype: object\n",
            "\n"
          ]
        }
      ],
      "source": [
        "import pandas as pd\n",
        "\n",
        "#   Carga de información - Prework\n",
        "url = \"https://raw.githubusercontent.com/karimacuna2008/Clase_Aprendizaje_Automatico/main/Practicas/Practica_1/typed_uanl.csv\"\n",
        "df = pd.read_csv(url)\n",
        "\n",
        "\n",
        "#   Estadísticas descriptivas\n",
        "for columna in df.columns:\n",
        "    descripcion = df[columna].describe()\n",
        "    print(f\"Estadísticas descriptivas de '{columna}':\")\n",
        "    print(descripcion)\n",
        "    print()"
      ]
    }
  ]
}